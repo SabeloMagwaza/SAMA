{
 "cells": [
  {
   "cell_type": "code",
   "execution_count": 1,
   "id": "f5286e05",
   "metadata": {},
   "outputs": [
    {
     "name": "stderr",
     "output_type": "stream",
     "text": [
      "C:\\ProgramData\\Anaconda3\\lib\\site-packages\\sklearn\\linear_model\\_logistic.py:814: ConvergenceWarning: lbfgs failed to converge (status=1):\n",
      "STOP: TOTAL NO. of ITERATIONS REACHED LIMIT.\n",
      "\n",
      "Increase the number of iterations (max_iter) or scale the data as shown in:\n",
      "    https://scikit-learn.org/stable/modules/preprocessing.html\n",
      "Please also refer to the documentation for alternative solver options:\n",
      "    https://scikit-learn.org/stable/modules/linear_model.html#logistic-regression\n",
      "  n_iter_i = _check_optimize_result(\n"
     ]
    }
   ],
   "source": [
    "import pandas as pd\n",
    "from sklearn.model_selection import train_test_split\n",
    "from sklearn.feature_extraction.text import TfidfVectorizer\n",
    "from sklearn.linear_model import LogisticRegression\n",
    "from sklearn.metrics import f1_score\n",
    "\n",
    "# Load the dataset\n",
    "train_data = pd.read_csv(\"C:/Users/w5665973/OneDrive - FRG/Desktop/MAGWAZA/ea-twitter-sentiment-classification-2023-2024/train.csv\")\n",
    "novel_data = pd.read_csv(\"C:/Users/w5665973/OneDrive - FRG/Desktop/MAGWAZA/ea-twitter-sentiment-classification-2023-2024/test.csv\")  # Assuming this file contains novel tweet data\n",
    "\n",
    "# Data Preprocessing\n",
    "X_train = train_data['message']\n",
    "y_train = train_data['sentiment']  # Assuming this column contains the labels\n",
    "X_novel = novel_data['message']\n",
    "\n",
    "# Feature Engineering: Convert text data into numerical features using TF-IDF\n",
    "tfidf_vectorizer = TfidfVectorizer(max_features=5000)  # Adjust max_features as needed\n",
    "X_train_tfidf = tfidf_vectorizer.fit_transform(X_train)\n",
    "X_novel_tfidf = tfidf_vectorizer.transform(X_novel)\n",
    "\n",
    "# Model Selection: Logistic Regression\n",
    "model = LogisticRegression()\n",
    "\n",
    "# Model Training\n",
    "model.fit(X_train_tfidf, y_train)\n",
    "\n",
    "# Generate Predictions for novel tweet data\n",
    "novel_predictions = model.predict(X_novel_tfidf)\n",
    "\n",
    "# Format predictions according to submission format\n",
    "submission_df = pd.DataFrame({'tweetid': novel_data['tweetid'], 'sentiment': novel_predictions})\n",
    "submission_df.to_csv(\"C:/Users/w5665973/OneDrive - FRG/Desktop/MAGWAZA/ea-twitter-sentiment-classification-2023-2024/submission_predictions.csv\", index=False)\n"
   ]
  },
  {
   "cell_type": "code",
   "execution_count": null,
   "id": "73a66ba9",
   "metadata": {},
   "outputs": [],
   "source": []
  }
 ],
 "metadata": {
  "kernelspec": {
   "display_name": "Python 3 (ipykernel)",
   "language": "python",
   "name": "python3"
  },
  "language_info": {
   "codemirror_mode": {
    "name": "ipython",
    "version": 3
   },
   "file_extension": ".py",
   "mimetype": "text/x-python",
   "name": "python",
   "nbconvert_exporter": "python",
   "pygments_lexer": "ipython3",
   "version": "3.9.13"
  }
 },
 "nbformat": 4,
 "nbformat_minor": 5
}
